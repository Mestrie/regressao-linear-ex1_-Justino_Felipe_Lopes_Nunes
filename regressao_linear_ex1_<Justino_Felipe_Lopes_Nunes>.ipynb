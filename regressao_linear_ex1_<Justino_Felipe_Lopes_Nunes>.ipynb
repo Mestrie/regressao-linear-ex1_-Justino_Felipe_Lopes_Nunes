{
  "nbformat": 4,
  "nbformat_minor": 0,
  "metadata": {
    "colab": {
      "provenance": [],
      "authorship_tag": "ABX9TyO8aH5INnPHqCrj/TrnFEoa",
      "include_colab_link": true
    },
    "kernelspec": {
      "name": "python3",
      "display_name": "Python 3"
    },
    "language_info": {
      "name": "python"
    }
  },
  "cells": [
    {
      "cell_type": "markdown",
      "metadata": {
        "id": "view-in-github",
        "colab_type": "text"
      },
      "source": [
        "<a href=\"https://colab.research.google.com/github/Mestrie/regressao-linear-ex1_-Justino_Felipe_Lopes_Nunes/blob/main/regressao_linear_ex1_%3CJustino_Felipe_Lopes_Nunes%3E.ipynb\" target=\"_parent\"><img src=\"https://colab.research.google.com/assets/colab-badge.svg\" alt=\"Open In Colab\"/></a>"
      ]
    },
    {
      "cell_type": "markdown",
      "source": [
        "#Functions\n",
        "------------------------------------------------------\n",
        "###compute_cost.py"
      ],
      "metadata": {
        "id": "lSxZyiP-atvM"
      }
    },
    {
      "cell_type": "code",
      "execution_count": 1,
      "metadata": {
        "id": "prt_nWZLXCjb"
      },
      "outputs": [],
      "source": [
        "\"\"\"\n",
        "@file compute_cost.py\n",
        "@brief Computes the cost for linear regression.\n",
        "\"\"\"\n",
        "\n",
        "import numpy as np\n",
        "\n",
        "def compute_cost(X, y, theta):\n",
        "    \"\"\"\n",
        "    Compute the cost for linear regression.\n",
        "\n",
        "    This function calculates the mean squared error cost function J(θ) for linear regression:\n",
        "    J(θ) = (1 / (2 * m)) * Σ (h(θ) - y)^2\n",
        "\n",
        "    where:\n",
        "    - J(θ) is the cost\n",
        "    - m is the number of training examples\n",
        "    - h(θ) is the hypothesis function (X @ theta)\n",
        "    - y is the vector of observed values\n",
        "\n",
        "    @param X: np.ndarray\n",
        "        Feature matrix including the intercept term (shape: m x n).\n",
        "    @param y: np.ndarray\n",
        "        Target variable vector (shape: m,).\n",
        "    @param theta: np.ndarray\n",
        "        Parameter vector for linear regression (shape: n,).\n",
        "\n",
        "    @return: float\n",
        "        The computed cost value as a single float.\n",
        "    \"\"\"\n",
        "\n",
        "    # get the number of training examples\n",
        "    m = len(y)\n",
        "\n",
        "    # Compute the predictions using the linear model by formula h(θ) = X @ θ\n",
        "    h_o = X @ theta\n",
        "\n",
        "    # Compute the error vector between predictions and actual values\n",
        "    errors = h_o - y\n",
        "\n",
        "    # Compute the cost as the mean squared error cost function using the formula\n",
        "    J_o = (1 / (2 * m)) * np.sum(errors**2)\n",
        "\n",
        "    return J_o\n"
      ]
    }
  ]
}